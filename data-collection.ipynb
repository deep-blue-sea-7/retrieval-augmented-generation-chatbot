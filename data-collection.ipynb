{
 "cells": [
  {
   "cell_type": "markdown",
   "id": "3c3d835b-1a52-4f0a-9224-eeb13bad579c",
   "metadata": {},
   "source": [
    "# Collect current car data from Google search via Rapid API\n",
    "\n",
    "Notebook to collect needed data to augment a chatbot with more recent information.\n",
    "Here are the basic steps:\n",
    "\n",
    "1. Connect to the Google search API via RapidAPI\n",
    "2. Run as many queries as needed\n",
    "3. Combine the results into a dataframe, then export to a .csv\n"
   ]
  },
  {
   "cell_type": "markdown",
   "id": "14691943-ca41-4c0a-b642-b375197faec0",
   "metadata": {},
   "source": [
    "## Imports"
   ]
  },
  {
   "cell_type": "code",
   "execution_count": 11,
   "id": "9c909a21-11f5-440a-89ae-747cee58d7a1",
   "metadata": {},
   "outputs": [],
   "source": [
    "import pandas as pd\n",
    "import http.client\n",
    "import json\n",
    "import requests"
   ]
  },
  {
   "cell_type": "markdown",
   "id": "bcef64d2-30be-4e45-af7e-17a7dc200a45",
   "metadata": {},
   "source": [
    "## 1) Function to connect to Google search and return results"
   ]
  },
  {
   "cell_type": "code",
   "execution_count": null,
   "id": "f5c62105-6780-4cd7-bd7c-a180cea8910a",
   "metadata": {},
   "outputs": [],
   "source": [
    "credentials = {}\n",
    "try:\n",
    "    with open('credentials.json') as file:\n",
    "        credentials = json.load(file)\n",
    "except FileNotFoundError:\n",
    "    print(\"Error: file credentials.json was not found.\")\n",
    "print(credentials)    \n",
    "\n",
    "rapid_api_key = credentials['RapidAPIKey']\n",
    "print(rapid_api_key)"
   ]
  },
  {
   "cell_type": "code",
   "execution_count": 21,
   "id": "a957f1ee-0ddd-4655-ab48-168afd17df43",
   "metadata": {},
   "outputs": [],
   "source": [
    "# Use [Real-Time Web Search] from Rapid API\n",
    "# Source: https://rapidapi.com/letscrape-6bRBa3QguO5/api/real-time-web-search\n",
    "\n",
    "url = \"https://real-time-web-search.p.rapidapi.com/search\"\n",
    "\n",
    "headers = {\n",
    "\t\"x-rapidapi-key\": rapid_api_key,\n",
    "\t\"x-rapidapi-host\": \"real-time-web-search.p.rapidapi.com\"\n",
    "}\n",
    "\n",
    "def collect_data(query, limit):\n",
    "    selected_elements_text = []\n",
    "\n",
    "    # querystring = {\"query\":query,\"limit\":limit,\"related_keywords\":\"true\"}\n",
    "    querystring = {\"q\":query,\"limit\":limit}\n",
    "\n",
    "    # session = requests.Session()\n",
    "    res = requests.get(url, headers=headers, params=querystring)\n",
    "    # data = res.json()[\"results\"]\n",
    "    data = res.json()[\"data\"]\n",
    "    \n",
    "    # Retrieve the 'title' and 'description' elements\n",
    "    for data in data:\n",
    "        # selected_elements_text.append(data[\"title\"] + \". \" + data[\"description\"])\n",
    "        selected_elements_text.append(data[\"title\"] + \". \" + data[\"snippet\"])\n",
    "\n",
    "\n",
    "    return selected_elements_text\n"
   ]
  },
  {
   "cell_type": "markdown",
   "id": "8d5a06b6-8bb1-489a-aad1-21f443f5e45c",
   "metadata": {},
   "source": [
    "## 2) Run the queries and collect the results"
   ]
  },
  {
   "cell_type": "code",
   "execution_count": 16,
   "id": "8560de3b-bc74-4ed7-aa0a-ea6977c55148",
   "metadata": {
    "scrolled": true
   },
   "outputs": [],
   "source": [
    "# Search Google for \"after:2023 top 1 best selling cars in the world\". Limit to 50 results.\n",
    "# query=\"after%3A2023%20top%201%20best%20selling%20cars%20in%20the%20world&limit=50&related_keywords=true\"\n",
    "query = \"after:2023 what is the best selling car in the world in 2023\"\n",
    "best_selling_car_data = collect_data(query, 50)\n",
    "\n",
    "# Search Google for \"after:2023 car with the lowest total cost of ownership\". Limit to 50 results.\n",
    "# query=\"after%3A2023%20car%20with%20the%20lowest%20total%20cost%20of%20ownership&limit=50&related_keywords=true\"\n",
    "query = \"after:2023 what was the car with the lowest total cost of ownership in 2023\"\n",
    "lowest_total_cost_car_data = collect_data(query, 50)\n"
   ]
  },
  {
   "cell_type": "markdown",
   "id": "ff0e39a9-3b61-4c7b-bbf1-676ffbc02d26",
   "metadata": {},
   "source": [
    "## 3) Store all the results in one DataFrame and export to a .csv"
   ]
  },
  {
   "cell_type": "code",
   "execution_count": 17,
   "id": "a3f0ca0f-194c-42f3-91d9-2e8c1228431f",
   "metadata": {},
   "outputs": [
    {
     "name": "stdout",
     "output_type": "stream",
     "text": [
      "45\n",
      "49\n"
     ]
    }
   ],
   "source": [
    "print(len(best_selling_car_data))\n",
    "print(len(lowest_total_cost_car_data))"
   ]
  },
  {
   "cell_type": "code",
   "execution_count": 18,
   "id": "32157b11-95c5-483c-806a-b1ea60277274",
   "metadata": {
    "scrolled": true
   },
   "outputs": [
    {
     "name": "stdout",
     "output_type": "stream",
     "text": [
      "49\n"
     ]
    },
    {
     "data": {
      "text/html": [
       "<div>\n",
       "<style scoped>\n",
       "    .dataframe tbody tr th:only-of-type {\n",
       "        vertical-align: middle;\n",
       "    }\n",
       "\n",
       "    .dataframe tbody tr th {\n",
       "        vertical-align: top;\n",
       "    }\n",
       "\n",
       "    .dataframe thead th {\n",
       "        text-align: right;\n",
       "    }\n",
       "</style>\n",
       "<table border=\"1\" class=\"dataframe\">\n",
       "  <thead>\n",
       "    <tr style=\"text-align: right;\">\n",
       "      <th></th>\n",
       "      <th>0</th>\n",
       "    </tr>\n",
       "  </thead>\n",
       "  <tbody>\n",
       "    <tr>\n",
       "      <th>0</th>\n",
       "      <td>NEW: EVs cost less to own than the most popular gas- .... Compact Sedans: Owning a Chevrolet Bolt EUV costs 25 percent less than a Toyota Corolla LE, translating to over $10,000 in savings over seven ...</td>\n",
       "    </tr>\n",
       "    <tr>\n",
       "      <th>1</th>\n",
       "      <td>Cost of Owning a Car for a Year in Every State. However, its average car insurance premium of $2,546 is the second highest after Florida. Maine. Total costs for one year of ownership: $25,312 ...</td>\n",
       "    </tr>\n",
       "    <tr>\n",
       "      <th>2</th>\n",
       "      <td>10 2024 Model EVs With The Lowest Cost Of Ownership .... Total Ownership Costs Over 5 Years: $46,916 ... The 2024 Nissan Leaf S has an attractive price, but sitting in first place isn't always the best.</td>\n",
       "    </tr>\n",
       "    <tr>\n",
       "      <th>3</th>\n",
       "      <td>5 Best Low-Cost-to-Own Vehicles | Save Money Without .... With a starting price of around $27,000 and one of the best warranties in the industry, it's a standout in the low-cost ownership category. For ...</td>\n",
       "    </tr>\n",
       "    <tr>\n",
       "      <th>4</th>\n",
       "      <td>World's Best-Selling Car Is the Tesla Model Y. For the first time in history the most popular new car across the planet is electric. Tesla sold more than 1.2 million Model Ys in 2023 to ...</td>\n",
       "    </tr>\n",
       "    <tr>\n",
       "      <th>...</th>\n",
       "      <td>...</td>\n",
       "    </tr>\n",
       "    <tr>\n",
       "      <th>89</th>\n",
       "      <td>The True Cost of Owning a Car in California. Let's delve into the various costs that go into owning a car. Average Car Loan Interest Rates in California. As of the third quarter of 2023, ...</td>\n",
       "    </tr>\n",
       "    <tr>\n",
       "      <th>90</th>\n",
       "      <td>The Cheapest New Cars of 2024. 1. 2024 Nissan Versa: $16,680 · 2. 2024 Mitsubishi Mirage: $16,695 · 3. 2024 Hyundai Venue: $19,900 · 4. 2024 Kia Forte: $19,990 · 5. 2024 Kia Soul: ...</td>\n",
       "    </tr>\n",
       "    <tr>\n",
       "      <th>91</th>\n",
       "      <td>Total cost of car ownership by state in 2024. Alaska is the cheapest state for car ownership due to low insurance rates and a very low (zero in some areas) sales tax. California replaced ...</td>\n",
       "    </tr>\n",
       "    <tr>\n",
       "      <th>92</th>\n",
       "      <td>Was The Toyota Corolla Or The Tesla Model Y The World's .... Last week, we presented sales data that initially indicated the Tesla Model Y as the world's best-selling vehicle in 2023.</td>\n",
       "    </tr>\n",
       "    <tr>\n",
       "      <th>93</th>\n",
       "      <td>The 25 Bestselling Cars, Trucks, and SUVs of 2023. The RAV4 retained its crown as the bestselling SUV in America once again. It finished the year strong enough to post a 9 percent increase over ...</td>\n",
       "    </tr>\n",
       "  </tbody>\n",
       "</table>\n",
       "<p>94 rows × 1 columns</p>\n",
       "</div>"
      ],
      "text/plain": [
       "                                                                                                                                                                                                                0\n",
       "0   NEW: EVs cost less to own than the most popular gas- .... Compact Sedans: Owning a Chevrolet Bolt EUV costs 25 percent less than a Toyota Corolla LE, translating to over $10,000 in savings over seven ...  \n",
       "1   Cost of Owning a Car for a Year in Every State. However, its average car insurance premium of $2,546 is the second highest after Florida. Maine. Total costs for one year of ownership: $25,312 ...          \n",
       "2   10 2024 Model EVs With The Lowest Cost Of Ownership .... Total Ownership Costs Over 5 Years: $46,916 ... The 2024 Nissan Leaf S has an attractive price, but sitting in first place isn't always the best.   \n",
       "3   5 Best Low-Cost-to-Own Vehicles | Save Money Without .... With a starting price of around $27,000 and one of the best warranties in the industry, it's a standout in the low-cost ownership category. For ...\n",
       "4   World's Best-Selling Car Is the Tesla Model Y. For the first time in history the most popular new car across the planet is electric. Tesla sold more than 1.2 million Model Ys in 2023 to ...                \n",
       "..                                                                                                                                                                                            ...                \n",
       "89  The True Cost of Owning a Car in California. Let's delve into the various costs that go into owning a car. Average Car Loan Interest Rates in California. As of the third quarter of 2023, ...               \n",
       "90  The Cheapest New Cars of 2024. 1. 2024 Nissan Versa: $16,680 · 2. 2024 Mitsubishi Mirage: $16,695 · 3. 2024 Hyundai Venue: $19,900 · 4. 2024 Kia Forte: $19,990 · 5. 2024 Kia Soul: ...                      \n",
       "91  Total cost of car ownership by state in 2024. Alaska is the cheapest state for car ownership due to low insurance rates and a very low (zero in some areas) sales tax. California replaced ...               \n",
       "92  Was The Toyota Corolla Or The Tesla Model Y The World's .... Last week, we presented sales data that initially indicated the Tesla Model Y as the world's best-selling vehicle in 2023.                      \n",
       "93  The 25 Bestselling Cars, Trucks, and SUVs of 2023. The RAV4 retained its crown as the bestselling SUV in America once again. It finished the year strong enough to post a 9 percent increase over ...        \n",
       "\n",
       "[94 rows x 1 columns]"
      ]
     },
     "execution_count": 18,
     "metadata": {},
     "output_type": "execute_result"
    }
   ],
   "source": [
    "# Combine the collected data above into one DataFrame\n",
    "all_data = best_selling_car_data + lowest_total_cost_car_data\n",
    "\n",
    "print(len(lowest_total_cost_car_data))\n",
    "df = pd.DataFrame(all_data)\n",
    "\n",
    "# shuffle entire DataFrame and reset index\n",
    "df.sample(frac=1).reset_index(drop=True)\n"
   ]
  },
  {
   "cell_type": "code",
   "execution_count": 19,
   "id": "9c67bd5c-fdf9-467c-95ad-0682240f4e44",
   "metadata": {},
   "outputs": [
    {
     "name": "stdout",
     "output_type": "stream",
     "text": [
      "0    The Cheapest New Cars of 2024. 1. 2024 Nissan Versa: $16,680 · 2. 2024 Mitsubishi Mirage: $16,695 · 3. 2024 Hyundai Venue: $19,900 · 4. 2024 Kia Forte: $19,990 · 5. 2024 Kia Soul: ...\n",
      "Name: 77, dtype: object\n",
      "0    Discounts on year-old vehicles have more than doubled. Used vehicle prices fell more steeply than nearly any other category in April's consumer price index, falling 6.9% from April 2023 to last month ...\n",
      "Name: 90, dtype: object\n"
     ]
    },
    {
     "name": "stderr",
     "output_type": "stream",
     "text": [
      "/var/folders/yj/byby0f397cvch16xnck2k0c40000gn/T/ipykernel_30597/27812984.py:2: FutureWarning: Passing a negative integer is deprecated in version 1.0 and will not be supported in future version. Instead, use None to not limit the column width.\n",
      "  pd.set_option('display.max_colwidth', -1)\n"
     ]
    }
   ],
   "source": [
    "# Check data\n",
    "pd.set_option('display.max_colwidth', -1)\n",
    "\n",
    "print(df.iloc[77])\n",
    "print(df.iloc[90])\n"
   ]
  },
  {
   "cell_type": "code",
   "execution_count": 20,
   "id": "5ad0ef39-fbef-4912-8222-5bd9662c3a1c",
   "metadata": {},
   "outputs": [],
   "source": [
    "# Export to a csv\n",
    "df.to_csv('recent_car_data.csv', header=[\"text\"], index=False)"
   ]
  },
  {
   "cell_type": "code",
   "execution_count": null,
   "id": "bb3b4ce9-11f1-4002-be09-378d1db151d2",
   "metadata": {},
   "outputs": [],
   "source": []
  }
 ],
 "metadata": {
  "kernelspec": {
   "display_name": "chatbot2env",
   "language": "python",
   "name": "chatbot2env"
  },
  "language_info": {
   "codemirror_mode": {
    "name": "ipython",
    "version": 3
   },
   "file_extension": ".py",
   "mimetype": "text/x-python",
   "name": "python",
   "nbconvert_exporter": "python",
   "pygments_lexer": "ipython3",
   "version": "3.10.9"
  }
 },
 "nbformat": 4,
 "nbformat_minor": 5
}
