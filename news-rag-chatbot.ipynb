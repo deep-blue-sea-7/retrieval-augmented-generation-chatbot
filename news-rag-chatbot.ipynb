{
 "cells": [
  {
   "cell_type": "markdown",
   "id": "efec29a8-18d1-4b79-b113-44093ac90346",
   "metadata": {},
   "source": [
    "# Chatbot with RAG - Retrieval-Augmented Generation \n",
    "\n",
    "#### Description\n",
    "A custom chatbot is built to answer questions about cars and is augmented with more recent data using the RAG technique.\n",
    "\n",
    "The same questions will be asked of the original model, then the model with the augmented dataset to compare the responses.\n",
    "\n",
    "#### Main Componenets\n",
    "\n",
    "- LLM: OpenAI `gpt-3.5-turbo-instruct`\n",
    "- Embedding Model: `text-embedding-ada-002`\n",
    "- Fine-tuning: `RAG`\n",
    "- Custom Dataset: `recent_car_data_embeddings.csv` produced by `data_collection.ipynb`\n"
   ]
  },
  {
   "cell_type": "markdown",
   "id": "932cc04c-e3af-4c97-9cad-08ac4413038f",
   "metadata": {},
   "source": [
    "## Imports"
   ]
  },
  {
   "cell_type": "code",
   "execution_count": 37,
   "id": "00997886-d014-402d-aa89-3075a25f2a9b",
   "metadata": {},
   "outputs": [],
   "source": [
    "import openai\n",
    "import tiktoken\n",
    "from openai.embeddings_utils import get_embedding, distances_from_embeddings\n",
    "\n",
    "import pandas as pd\n",
    "import json\n"
   ]
  },
  {
   "cell_type": "markdown",
   "id": "7c6c7e70-689d-4c7c-a02e-2662d14f25af",
   "metadata": {},
   "source": [
    "# 1) The Dataset"
   ]
  },
  {
   "cell_type": "markdown",
   "id": "2a4a94b3",
   "metadata": {},
   "source": [
    "\n",
    "When OpenAI was asked the questions below, the response did not yield the correct answers.\n",
    "1. which car was the best selling car in the world in 2023?\n",
    "2. which car has the lowest total cost of ownership or reuires the least maintenance in 2023?\n",
    "\n",
    "This is because the LLM was trained on data from up to 2021.\n",
    "\n",
    "To get the right answers, the notebook `data_collection.ipynb` was created to retrieve more recent data by collecting data from the internet through a Google API, then exporting the dataset to the file `recent_car_data.csv`.\n",
    "\n",
    "Once, we augment the chatbot with this data, the same questions will be asked with and without the augmententation.\n"
   ]
  },
  {
   "cell_type": "markdown",
   "id": "a63d4c5f",
   "metadata": {},
   "source": [
    "## 2) Data Wrangling\n",
    "\n",
    "Load the dataset from the file `recent_car_data.csv` which was produced by `data_collection.ipynb`\n"
   ]
  },
  {
   "cell_type": "markdown",
   "id": "fe0b98bd-ed0e-41dd-848a-7b768f38e471",
   "metadata": {},
   "source": [
    "### Load and Wrangle Data"
   ]
  },
  {
   "cell_type": "code",
   "execution_count": null,
   "id": "17c67ecf-b071-487a-8875-270f2ab88b84",
   "metadata": {},
   "outputs": [],
   "source": [
    "credentials = {}\n",
    "try:\n",
    "    with open('credentials.json') as file:\n",
    "        credentials = json.load(file)\n",
    "except FileNotFoundError:\n",
    "    print(\"Error: file credentials.json was not found.\")\n",
    "print(credentials)    \n",
    "\n",
    "api_key = credentials['OpenAIAPIKey']\n",
    "openai.api_key = api_key\n",
    "\n",
    "print(api_key)"
   ]
  },
  {
   "cell_type": "code",
   "execution_count": 39,
   "id": "d8d94391-65f3-420a-8f2d-f2739ba6ad1c",
   "metadata": {},
   "outputs": [
    {
     "data": {
      "text/html": [
       "<div>\n",
       "<style scoped>\n",
       "    .dataframe tbody tr th:only-of-type {\n",
       "        vertical-align: middle;\n",
       "    }\n",
       "\n",
       "    .dataframe tbody tr th {\n",
       "        vertical-align: top;\n",
       "    }\n",
       "\n",
       "    .dataframe thead th {\n",
       "        text-align: right;\n",
       "    }\n",
       "</style>\n",
       "<table border=\"1\" class=\"dataframe\">\n",
       "  <thead>\n",
       "    <tr style=\"text-align: right;\">\n",
       "      <th></th>\n",
       "      <th>text</th>\n",
       "    </tr>\n",
       "  </thead>\n",
       "  <tbody>\n",
       "    <tr>\n",
       "      <th>0</th>\n",
       "      <td>Tesla Model Y secures position as world's best...</td>\n",
       "    </tr>\n",
       "    <tr>\n",
       "      <th>1</th>\n",
       "      <td>Best-selling car models worldwide 2023. The Te...</td>\n",
       "    </tr>\n",
       "    <tr>\n",
       "      <th>2</th>\n",
       "      <td>The world's top 500 best-selling cars in 2023....</td>\n",
       "    </tr>\n",
       "    <tr>\n",
       "      <th>3</th>\n",
       "      <td>World Best Selling Cars Ranking 2024. World Be...</td>\n",
       "    </tr>\n",
       "    <tr>\n",
       "      <th>4</th>\n",
       "      <td>Tesla Model Y to be crowned world's best-selli...</td>\n",
       "    </tr>\n",
       "  </tbody>\n",
       "</table>\n",
       "</div>"
      ],
      "text/plain": [
       "                                                text\n",
       "0  Tesla Model Y secures position as world's best...\n",
       "1  Best-selling car models worldwide 2023. The Te...\n",
       "2  The world's top 500 best-selling cars in 2023....\n",
       "3  World Best Selling Cars Ranking 2024. World Be...\n",
       "4  Tesla Model Y to be crowned world's best-selli..."
      ]
     },
     "execution_count": 39,
     "metadata": {},
     "output_type": "execute_result"
    }
   ],
   "source": [
    "df = pd.read_csv('recent_car_data.csv')    \n",
    "df.head()"
   ]
  },
  {
   "cell_type": "markdown",
   "id": "044edf93-ceba-4438-af2b-28d78dc71ef8",
   "metadata": {},
   "source": [
    "### Generate Embeddings"
   ]
  },
  {
   "cell_type": "code",
   "execution_count": 40,
   "id": "f5fc05ba-100f-407c-9ad4-3ac76ecae073",
   "metadata": {},
   "outputs": [
    {
     "data": {
      "text/html": [
       "<div>\n",
       "<style scoped>\n",
       "    .dataframe tbody tr th:only-of-type {\n",
       "        vertical-align: middle;\n",
       "    }\n",
       "\n",
       "    .dataframe tbody tr th {\n",
       "        vertical-align: top;\n",
       "    }\n",
       "\n",
       "    .dataframe thead th {\n",
       "        text-align: right;\n",
       "    }\n",
       "</style>\n",
       "<table border=\"1\" class=\"dataframe\">\n",
       "  <thead>\n",
       "    <tr style=\"text-align: right;\">\n",
       "      <th></th>\n",
       "      <th>text</th>\n",
       "      <th>embeddings</th>\n",
       "    </tr>\n",
       "  </thead>\n",
       "  <tbody>\n",
       "    <tr>\n",
       "      <th>0</th>\n",
       "      <td>Tesla Model Y secures position as world's best...</td>\n",
       "      <td>[0.0007928981212899089, -0.025256941094994545,...</td>\n",
       "    </tr>\n",
       "    <tr>\n",
       "      <th>1</th>\n",
       "      <td>Best-selling car models worldwide 2023. The Te...</td>\n",
       "      <td>[-0.010839383117854595, -0.022148113697767258,...</td>\n",
       "    </tr>\n",
       "    <tr>\n",
       "      <th>2</th>\n",
       "      <td>The world's top 500 best-selling cars in 2023....</td>\n",
       "      <td>[-0.007705730386078358, -0.026900004595518112,...</td>\n",
       "    </tr>\n",
       "    <tr>\n",
       "      <th>3</th>\n",
       "      <td>World Best Selling Cars Ranking 2024. World Be...</td>\n",
       "      <td>[0.009730380959808826, -0.00798781681805849, 0...</td>\n",
       "    </tr>\n",
       "    <tr>\n",
       "      <th>4</th>\n",
       "      <td>Tesla Model Y to be crowned world's best-selli...</td>\n",
       "      <td>[-0.015623337589204311, -0.0179719440639019, 0...</td>\n",
       "    </tr>\n",
       "    <tr>\n",
       "      <th>...</th>\n",
       "      <td>...</td>\n",
       "      <td>...</td>\n",
       "    </tr>\n",
       "    <tr>\n",
       "      <th>89</th>\n",
       "      <td>The True Cost to Own EVs vs. Gas Cars. ... car...</td>\n",
       "      <td>[0.02793605998158455, -0.012697041966021061, 0...</td>\n",
       "    </tr>\n",
       "    <tr>\n",
       "      <th>90</th>\n",
       "      <td>Discounts on year-old vehicles have more than ...</td>\n",
       "      <td>[-0.014496373012661934, 0.003646989120170474, ...</td>\n",
       "    </tr>\n",
       "    <tr>\n",
       "      <th>91</th>\n",
       "      <td>Cheaper and Cleaner: Electric Vehicle Owners S...</td>\n",
       "      <td>[0.018361523747444153, -0.0010400335304439068,...</td>\n",
       "    </tr>\n",
       "    <tr>\n",
       "      <th>92</th>\n",
       "      <td>Safe vehicles for teens. Best Choices — used ;...</td>\n",
       "      <td>[0.009535635821521282, -0.026397429406642914, ...</td>\n",
       "    </tr>\n",
       "    <tr>\n",
       "      <th>93</th>\n",
       "      <td>Average Fuel Economy by Major Vehicle Category...</td>\n",
       "      <td>[0.004431302659213543, -0.007682228460907936, ...</td>\n",
       "    </tr>\n",
       "  </tbody>\n",
       "</table>\n",
       "<p>94 rows × 2 columns</p>\n",
       "</div>"
      ],
      "text/plain": [
       "                                                 text  \\\n",
       "0   Tesla Model Y secures position as world's best...   \n",
       "1   Best-selling car models worldwide 2023. The Te...   \n",
       "2   The world's top 500 best-selling cars in 2023....   \n",
       "3   World Best Selling Cars Ranking 2024. World Be...   \n",
       "4   Tesla Model Y to be crowned world's best-selli...   \n",
       "..                                                ...   \n",
       "89  The True Cost to Own EVs vs. Gas Cars. ... car...   \n",
       "90  Discounts on year-old vehicles have more than ...   \n",
       "91  Cheaper and Cleaner: Electric Vehicle Owners S...   \n",
       "92  Safe vehicles for teens. Best Choices — used ;...   \n",
       "93  Average Fuel Economy by Major Vehicle Category...   \n",
       "\n",
       "                                           embeddings  \n",
       "0   [0.0007928981212899089, -0.025256941094994545,...  \n",
       "1   [-0.010839383117854595, -0.022148113697767258,...  \n",
       "2   [-0.007705730386078358, -0.026900004595518112,...  \n",
       "3   [0.009730380959808826, -0.00798781681805849, 0...  \n",
       "4   [-0.015623337589204311, -0.0179719440639019, 0...  \n",
       "..                                                ...  \n",
       "89  [0.02793605998158455, -0.012697041966021061, 0...  \n",
       "90  [-0.014496373012661934, 0.003646989120170474, ...  \n",
       "91  [0.018361523747444153, -0.0010400335304439068,...  \n",
       "92  [0.009535635821521282, -0.026397429406642914, ...  \n",
       "93  [0.004431302659213543, -0.007682228460907936, ...  \n",
       "\n",
       "[94 rows x 2 columns]"
      ]
     },
     "execution_count": 40,
     "metadata": {},
     "output_type": "execute_result"
    }
   ],
   "source": [
    "EMBEDDING_MODEL_NAME = \"text-embedding-ada-002\"\n",
    "batch_size = 100\n",
    "embeddings = []\n",
    "for i in range(0, len(df), batch_size):\n",
    "    # Send text data to OpenAI model to get embeddings\n",
    "    response = openai.Embedding.create(\n",
    "        input=df.iloc[i:i+batch_size][\"text\"].tolist(),\n",
    "        engine=EMBEDDING_MODEL_NAME\n",
    "    )\n",
    "    \n",
    "    # Add embeddings to list\n",
    "    embeddings.extend([data[\"embedding\"] for data in response[\"data\"]])\n",
    "\n",
    "# Add embeddings list to dataframe\n",
    "df[\"embeddings\"] = embeddings\n",
    "df"
   ]
  },
  {
   "cell_type": "code",
   "execution_count": 41,
   "id": "e243ff90-4c16-42c8-922e-4d0faaa63dcb",
   "metadata": {},
   "outputs": [],
   "source": [
    "# Save the embeddings locally\n",
    "df.to_csv(\"recent_car_data_embeddings.csv\")"
   ]
  },
  {
   "cell_type": "markdown",
   "id": "9c8de742-594a-409d-854d-b6fb75d2a78d",
   "metadata": {},
   "source": [
    "### Function to Find Related Pieces of Text for a Given Question"
   ]
  },
  {
   "cell_type": "code",
   "execution_count": 42,
   "id": "2612379f-0897-4653-a123-11d925c5a548",
   "metadata": {},
   "outputs": [],
   "source": [
    "\n",
    "def get_rows_sorted_by_relevance(question, df):\n",
    "    \"\"\"\n",
    "    Function that takes in a question string and a dataframe containing\n",
    "    rows of text and associated embeddings, and returns that dataframe\n",
    "    sorted from least to most relevant for that question\n",
    "    \"\"\"\n",
    "    \n",
    "    # Get embeddings for the question text\n",
    "    question_embeddings = get_embedding(question, engine=EMBEDDING_MODEL_NAME)\n",
    "    \n",
    "    # Make a copy of the dataframe and add a \"distances\" column containing\n",
    "    # the cosine distances between each row's embeddings and the\n",
    "    # embeddings of the question\n",
    "    df_copy = df.copy()\n",
    "    df_copy[\"distances\"] = distances_from_embeddings(\n",
    "        question_embeddings,\n",
    "        df_copy[\"embeddings\"].values,\n",
    "        distance_metric=\"cosine\"\n",
    "    )\n",
    "    \n",
    "    # Sort the copied dataframe by the distances and return it\n",
    "    # (shorter distance = more relevant so we sort in ascending order)\n",
    "    df_copy.sort_values(\"distances\", ascending=True, inplace=True)\n",
    "    return df_copy\n"
   ]
  },
  {
   "cell_type": "code",
   "execution_count": 43,
   "id": "886d8769-6514-4703-953c-dd12695c854d",
   "metadata": {},
   "outputs": [
    {
     "data": {
      "text/html": [
       "<div>\n",
       "<style scoped>\n",
       "    .dataframe tbody tr th:only-of-type {\n",
       "        vertical-align: middle;\n",
       "    }\n",
       "\n",
       "    .dataframe tbody tr th {\n",
       "        vertical-align: top;\n",
       "    }\n",
       "\n",
       "    .dataframe thead th {\n",
       "        text-align: right;\n",
       "    }\n",
       "</style>\n",
       "<table border=\"1\" class=\"dataframe\">\n",
       "  <thead>\n",
       "    <tr style=\"text-align: right;\">\n",
       "      <th></th>\n",
       "      <th>text</th>\n",
       "      <th>embeddings</th>\n",
       "      <th>distances</th>\n",
       "    </tr>\n",
       "  </thead>\n",
       "  <tbody>\n",
       "    <tr>\n",
       "      <th>23</th>\n",
       "      <td>The best-selling car in the world in 2023 is t...</td>\n",
       "      <td>[-0.010958744212985039, -0.02671232633292675, ...</td>\n",
       "      <td>0.095250</td>\n",
       "    </tr>\n",
       "    <tr>\n",
       "      <th>1</th>\n",
       "      <td>Best-selling car models worldwide 2023. The Te...</td>\n",
       "      <td>[-0.010839383117854595, -0.022148113697767258,...</td>\n",
       "      <td>0.101876</td>\n",
       "    </tr>\n",
       "    <tr>\n",
       "      <th>22</th>\n",
       "      <td>Tesla Model Y crowned world's best-selling car...</td>\n",
       "      <td>[-0.01762448064982891, -0.017356475815176964, ...</td>\n",
       "      <td>0.102505</td>\n",
       "    </tr>\n",
       "    <tr>\n",
       "      <th>25</th>\n",
       "      <td>Tesla Model Y crowned world's best-selling car...</td>\n",
       "      <td>[-0.016832543537020683, -0.025813322514295578,...</td>\n",
       "      <td>0.102738</td>\n",
       "    </tr>\n",
       "    <tr>\n",
       "      <th>37</th>\n",
       "      <td>Tesla Model Y is world's best-selling car of 2...</td>\n",
       "      <td>[-0.015965625643730164, -0.022575119510293007,...</td>\n",
       "      <td>0.102806</td>\n",
       "    </tr>\n",
       "    <tr>\n",
       "      <th>...</th>\n",
       "      <td>...</td>\n",
       "      <td>...</td>\n",
       "      <td>...</td>\n",
       "    </tr>\n",
       "    <tr>\n",
       "      <th>79</th>\n",
       "      <td>Cost of Owning a Car for a Year in Every State...</td>\n",
       "      <td>[0.018761899322271347, 0.0036847013980150223, ...</td>\n",
       "      <td>0.262905</td>\n",
       "    </tr>\n",
       "    <tr>\n",
       "      <th>76</th>\n",
       "      <td>Electric Vehicle Cost Goes Beyond the Purchase...</td>\n",
       "      <td>[0.022899383679032326, -0.013003667816519737, ...</td>\n",
       "      <td>0.263573</td>\n",
       "    </tr>\n",
       "    <tr>\n",
       "      <th>68</th>\n",
       "      <td>It Sucks to Own an EV in These Cities—Here's W...</td>\n",
       "      <td>[0.019500192254781723, 0.0075468276627361774, ...</td>\n",
       "      <td>0.266218</td>\n",
       "    </tr>\n",
       "    <tr>\n",
       "      <th>84</th>\n",
       "      <td>The True Cost of Owning a Car in California. L...</td>\n",
       "      <td>[0.0092276930809021, -0.01021749246865511, 0.0...</td>\n",
       "      <td>0.275896</td>\n",
       "    </tr>\n",
       "    <tr>\n",
       "      <th>72</th>\n",
       "      <td>Cost of Owning a Car for a Year in Every State...</td>\n",
       "      <td>[0.014969158917665482, 0.004797646775841713, 0...</td>\n",
       "      <td>0.290813</td>\n",
       "    </tr>\n",
       "  </tbody>\n",
       "</table>\n",
       "<p>94 rows × 3 columns</p>\n",
       "</div>"
      ],
      "text/plain": [
       "                                                 text  \\\n",
       "23  The best-selling car in the world in 2023 is t...   \n",
       "1   Best-selling car models worldwide 2023. The Te...   \n",
       "22  Tesla Model Y crowned world's best-selling car...   \n",
       "25  Tesla Model Y crowned world's best-selling car...   \n",
       "37  Tesla Model Y is world's best-selling car of 2...   \n",
       "..                                                ...   \n",
       "79  Cost of Owning a Car for a Year in Every State...   \n",
       "76  Electric Vehicle Cost Goes Beyond the Purchase...   \n",
       "68  It Sucks to Own an EV in These Cities—Here's W...   \n",
       "84  The True Cost of Owning a Car in California. L...   \n",
       "72  Cost of Owning a Car for a Year in Every State...   \n",
       "\n",
       "                                           embeddings  distances  \n",
       "23  [-0.010958744212985039, -0.02671232633292675, ...   0.095250  \n",
       "1   [-0.010839383117854595, -0.022148113697767258,...   0.101876  \n",
       "22  [-0.01762448064982891, -0.017356475815176964, ...   0.102505  \n",
       "25  [-0.016832543537020683, -0.025813322514295578,...   0.102738  \n",
       "37  [-0.015965625643730164, -0.022575119510293007,...   0.102806  \n",
       "..                                                ...        ...  \n",
       "79  [0.018761899322271347, 0.0036847013980150223, ...   0.262905  \n",
       "76  [0.022899383679032326, -0.013003667816519737, ...   0.263573  \n",
       "68  [0.019500192254781723, 0.0075468276627361774, ...   0.266218  \n",
       "84  [0.0092276930809021, -0.01021749246865511, 0.0...   0.275896  \n",
       "72  [0.014969158917665482, 0.004797646775841713, 0...   0.290813  \n",
       "\n",
       "[94 rows x 3 columns]"
      ]
     },
     "execution_count": 43,
     "metadata": {},
     "output_type": "execute_result"
    }
   ],
   "source": [
    "# Check using a question\n",
    "get_rows_sorted_by_relevance(\"what was the best selling car in the world in 2023?\", df)"
   ]
  },
  {
   "cell_type": "markdown",
   "id": "ae769871",
   "metadata": {},
   "source": [
    "## 3) Custom Query Completion\n",
    "\n",
    "Compose a custom query using the chosen dataset and retrieve results from an OpenAI `Completion` model. "
   ]
  },
  {
   "cell_type": "markdown",
   "id": "cf248464-90d7-4feb-bcb1-dc4dea4458e2",
   "metadata": {},
   "source": [
    "### Create a Function that Composes a Text Prompt"
   ]
  },
  {
   "cell_type": "code",
   "execution_count": 44,
   "id": "582f0656",
   "metadata": {},
   "outputs": [],
   "source": [
    "\n",
    "def create_prompt(question, df, max_token_count, augmented):\n",
    "    \"\"\"\n",
    "    Given a question and a dataframe containing rows of text and their\n",
    "    embeddings, return a text prompt to send to a Completion model\n",
    "    \"\"\"\n",
    "    # Create a tokenizer that is designed to align with our embeddings\n",
    "    tokenizer = tiktoken.get_encoding(\"cl100k_base\")\n",
    "    \n",
    "    # Count the number of tokens in the prompt template and question\n",
    "    prompt_template = \"\"\"\n",
    "Answer the question based on the context below, and if the question\n",
    "can't be answered based on the context, say \"I don't know\"\n",
    "\n",
    "Context: \n",
    "\n",
    "{}\n",
    "\n",
    "---\n",
    "\n",
    "Question: {}\n",
    "Answer:\"\"\"\n",
    "    \n",
    "    current_token_count = len(tokenizer.encode(prompt_template)) + \\\n",
    "                            len(tokenizer.encode(question))\n",
    "    \n",
    "    context = []\n",
    "\n",
    "    if augmented == True:\n",
    "        for text in get_rows_sorted_by_relevance(question, df)[\"text\"].values:\n",
    "            \n",
    "            # Increase the counter based on the number of tokens in this row\n",
    "            text_token_count = len(tokenizer.encode(text))\n",
    "            current_token_count += text_token_count\n",
    "            \n",
    "            # Add the row of text to the list if we haven't exceeded the max\n",
    "            if current_token_count <= max_token_count:\n",
    "                context.append(text)\n",
    "            else:\n",
    "                break\n",
    "\n",
    "    return prompt_template.format(\"\\n\\n###\\n\\n\".join(context), question)"
   ]
  },
  {
   "cell_type": "markdown",
   "id": "f3dc5cc0-3dcf-4c0d-b7b0-f4df8c77834e",
   "metadata": {},
   "source": [
    "### Create a Function that Answers a Question"
   ]
  },
  {
   "cell_type": "code",
   "execution_count": 45,
   "id": "8b6e1f75",
   "metadata": {},
   "outputs": [],
   "source": [
    "COMPLETION_MODEL_NAME = \"gpt-3.5-turbo-instruct\"\n",
    "\n",
    "def answer_question(\n",
    "    question, df, augmented, max_prompt_tokens=1800, max_answer_tokens=150):\n",
    "    \"\"\"\n",
    "    Given a question, a dataframe containing rows of text, and a maximum\n",
    "    number of desired tokens in the prompt and response, return the\n",
    "    answer to the question according to an OpenAI Completion model\n",
    "    \n",
    "    If the model produces an error, return an empty string\n",
    "    \"\"\"\n",
    "    \n",
    "    prompt = create_prompt(question, df, max_prompt_tokens, augmented)\n",
    "    \n",
    "    try:\n",
    "        response = openai.Completion.create(\n",
    "            model=COMPLETION_MODEL_NAME,\n",
    "            prompt=prompt,\n",
    "            max_tokens=max_answer_tokens\n",
    "        )\n",
    "        return response[\"choices\"][0][\"text\"].strip()\n",
    "    except Exception as e:\n",
    "        print(e)\n",
    "        return \"\"\n"
   ]
  },
  {
   "cell_type": "markdown",
   "id": "1783f146",
   "metadata": {},
   "source": [
    "## 4) Custom Performance Demonstration\n",
    "\n",
    "Demonstrate the performance of the custom query using the 2 questions. For each question, inspect the answer from a basic `Completion` model query as well as the answer from the custom query.\n"
   ]
  },
  {
   "cell_type": "markdown",
   "id": "4f11fdc0",
   "metadata": {},
   "source": [
    "### Question 1"
   ]
  },
  {
   "cell_type": "code",
   "execution_count": 46,
   "id": "4901c850",
   "metadata": {},
   "outputs": [
    {
     "name": "stdout",
     "output_type": "stream",
     "text": [
      "I don't know\n"
     ]
    }
   ],
   "source": [
    "non_custom_best_selling_car_answer = answer_question(\"which car was the best selling car in the world in 2023?\", df, False)\n",
    "print(non_custom_best_selling_car_answer)"
   ]
  },
  {
   "cell_type": "code",
   "execution_count": 47,
   "id": "bd7a093b",
   "metadata": {},
   "outputs": [
    {
     "name": "stdout",
     "output_type": "stream",
     "text": [
      "The Tesla Model Y was the best-selling car in the world in 2023.\n"
     ]
    }
   ],
   "source": [
    "custom_best_selling_car_answer = answer_question(\"which car was the best selling car in the world in 2023?\", df, True)\n",
    "print(custom_best_selling_car_answer)"
   ]
  },
  {
   "cell_type": "markdown",
   "id": "6e86e37c",
   "metadata": {},
   "source": [
    "### Question 2"
   ]
  },
  {
   "cell_type": "code",
   "execution_count": 48,
   "id": "6f646989",
   "metadata": {},
   "outputs": [
    {
     "name": "stdout",
     "output_type": "stream",
     "text": [
      "I don't know\n"
     ]
    }
   ],
   "source": [
    "non_custom_lowest_tco_car_answer = answer_question(\"which car had the lowest total cost of ownership or required the least maintenance in 2023?\", df, False)\n",
    "print(non_custom_lowest_tco_car_answer)"
   ]
  },
  {
   "cell_type": "code",
   "execution_count": 49,
   "id": "11c07a54",
   "metadata": {},
   "outputs": [
    {
     "name": "stdout",
     "output_type": "stream",
     "text": [
      "Tesla Model 3\n"
     ]
    }
   ],
   "source": [
    "custom_lowest_tco_car_answer = answer_question(\"which car had the lowest total cost of ownership or required the least maintenance in 2023?\", df, True)\n",
    "print(custom_lowest_tco_car_answer)"
   ]
  },
  {
   "cell_type": "markdown",
   "id": "6eff996c-9850-4daa-bef1-ccb3cd47c99e",
   "metadata": {},
   "source": [
    "# 5) Car Chatbot"
   ]
  },
  {
   "cell_type": "code",
   "execution_count": 51,
   "id": "90069f8b-f5d2-4ec3-8c0c-b99ebd42c1d5",
   "metadata": {},
   "outputs": [
    {
     "name": "stdout",
     "output_type": "stream",
     "text": [
      "Hello, ask me about cars. Hit Enter to exit.\n",
      "\n"
     ]
    },
    {
     "name": "stdout",
     "output_type": "stream",
     "text": [
      "You:  which car was the best selling car in the world in 2023?\n"
     ]
    },
    {
     "name": "stdout",
     "output_type": "stream",
     "text": [
      "\n",
      "Car Bot: The Tesla Model Y was the best-selling car in the world in 2023.\n",
      "\n"
     ]
    },
    {
     "name": "stdout",
     "output_type": "stream",
     "text": [
      "You:  which car had the lowest total cost of ownership or required the least maintenance in 2023?\n"
     ]
    },
    {
     "name": "stdout",
     "output_type": "stream",
     "text": [
      "\n",
      "Car Bot: Tesla Model 3 was found to have the lowest total cost of ownership or required the least maintenance in 2023.\n",
      "\n"
     ]
    },
    {
     "name": "stdout",
     "output_type": "stream",
     "text": [
      "You:  \n"
     ]
    },
    {
     "name": "stdout",
     "output_type": "stream",
     "text": [
      "\n",
      "Car Bot: Good bye!\n"
     ]
    }
   ],
   "source": [
    "print('Hello, ask me about cars. Hit Enter to exit.\\n')\n",
    "while True:\n",
    "    question = input('You: ')\n",
    "    if len(question) > 0:\n",
    "        print(f'\\nCar Bot: {answer_question(question, df, True)}', end='\\n\\n')\n",
    "    else:\n",
    "        print('\\nCar Bot: Good bye!')\n",
    "        break"
   ]
  },
  {
   "cell_type": "code",
   "execution_count": null,
   "id": "17f0e00e-06e1-427d-a4a4-f8d6b9362f9c",
   "metadata": {},
   "outputs": [],
   "source": []
  }
 ],
 "metadata": {
  "kernelspec": {
   "display_name": "Python 3 (ipykernel)",
   "language": "python",
   "name": "python3"
  },
  "language_info": {
   "codemirror_mode": {
    "name": "ipython",
    "version": 3
   },
   "file_extension": ".py",
   "mimetype": "text/x-python",
   "name": "python",
   "nbconvert_exporter": "python",
   "pygments_lexer": "ipython3",
   "version": "3.10.9"
  }
 },
 "nbformat": 4,
 "nbformat_minor": 5
}
